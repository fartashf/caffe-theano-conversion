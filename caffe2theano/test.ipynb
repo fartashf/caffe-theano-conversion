{
 "cells": [
  {
   "cell_type": "code",
   "execution_count": 31,
   "metadata": {
    "collapsed": true
   },
   "outputs": [],
   "source": [
    "caffe_root='/home/ffaghri/caffe/'\n",
    "import sys \n",
    "sys.path.insert(0, caffe_root+'python')"
   ]
  },
  {
   "cell_type": "code",
   "execution_count": 2,
   "metadata": {
    "collapsed": false
   },
   "outputs": [],
   "source": [
    "import matplotlib \n",
    "matplotlib.use('Agg') \n",
    "import caffe"
   ]
  },
  {
   "cell_type": "code",
   "execution_count": 3,
   "metadata": {
    "collapsed": true
   },
   "outputs": [],
   "source": [
    "%load_ext autoreload\n",
    "%autoreload 2"
   ]
  },
  {
   "cell_type": "code",
   "execution_count": 8,
   "metadata": {
    "collapsed": false
   },
   "outputs": [
    {
     "name": "stdout",
     "output_type": "stream",
     "text": [
      "===============\n",
      "===============\n",
      "===============\n",
      "===============\n",
      "===============\n",
      "\n",
      "using cuda convnet wrappers\n",
      "===============\n",
      "===============\n",
      "===============\n",
      "===============\n",
      "===============\n",
      "\n"
     ]
    }
   ],
   "source": [
    "%aimport conversion"
   ]
  },
  {
   "cell_type": "code",
   "execution_count": 5,
   "metadata": {
    "collapsed": true
   },
   "outputs": [],
   "source": [
    "%aimport models"
   ]
  },
  {
   "cell_type": "code",
   "execution_count": 19,
   "metadata": {
    "collapsed": false
   },
   "outputs": [],
   "source": [
    "lmodel = conversion.convert('../../caffe/models/bvlc_reference_caffenet/deploy.prototxt',\n",
    "                 '../../caffe/models/bvlc_reference_caffenet/bvlc_reference_caffenet.caffemodel')"
   ]
  },
  {
   "cell_type": "code",
   "execution_count": 20,
   "metadata": {
    "collapsed": false
   },
   "outputs": [
    {
     "data": {
      "text/plain": [
       "['__class__',\n",
       " '__delattr__',\n",
       " '__dict__',\n",
       " '__doc__',\n",
       " '__format__',\n",
       " '__getattribute__',\n",
       " '__hash__',\n",
       " '__init__',\n",
       " '__module__',\n",
       " '__new__',\n",
       " '__reduce__',\n",
       " '__reduce_ex__',\n",
       " '__repr__',\n",
       " '__setattr__',\n",
       " '__sizeof__',\n",
       " '__str__',\n",
       " '__subclasshook__',\n",
       " '__weakref__',\n",
       " 'all_layers',\n",
       " 'compile',\n",
       " 'compile_kwargs',\n",
       " 'forward',\n",
       " 'input_layer',\n",
       " 'last_layer']"
      ]
     },
     "execution_count": 20,
     "metadata": {},
     "output_type": "execute_result"
    }
   ],
   "source": [
    "dir(lmodel)"
   ]
  },
  {
   "cell_type": "code",
   "execution_count": 22,
   "metadata": {
    "collapsed": false
   },
   "outputs": [
    {
     "data": {
      "text/plain": [
       "[<lasagne.layers.input.InputLayer at 0xa382910>,\n",
       " <caffe_layers.extra_convnet_layers.CaffeConv2DCCLayer at 0xab9dfd0>,\n",
       " <caffe_layers.extra_layers.ReluLayer at 0xab9de50>,\n",
       " <lasagne.layers.cuda_convnet.MaxPool2DCCLayer at 0xab5a0d0>,\n",
       " <caffe_layers.extra_layers.CaffeLocalResponseNormalization2DLayer at 0xab5a110>,\n",
       " <caffe_layers.extra_convnet_layers.CaffeConv2DCCLayer at 0xab5a050>,\n",
       " <caffe_layers.extra_layers.ReluLayer at 0xab5af50>,\n",
       " <lasagne.layers.cuda_convnet.MaxPool2DCCLayer at 0xab9b290>,\n",
       " <caffe_layers.extra_layers.CaffeLocalResponseNormalization2DLayer at 0xab9bf50>,\n",
       " <caffe_layers.extra_convnet_layers.CaffeConv2DCCLayer at 0xab9bf90>,\n",
       " <caffe_layers.extra_layers.ReluLayer at 0xab9bfd0>,\n",
       " <caffe_layers.extra_convnet_layers.CaffeConv2DCCLayer at 0xaba3350>,\n",
       " <caffe_layers.extra_layers.ReluLayer at 0xaba3450>,\n",
       " <caffe_layers.extra_convnet_layers.CaffeConv2DCCLayer at 0xaba3390>,\n",
       " <caffe_layers.extra_layers.ReluLayer at 0xaba3750>,\n",
       " <lasagne.layers.cuda_convnet.MaxPool2DCCLayer at 0xaba3a90>,\n",
       " <lasagne.layers.dense.DenseLayer at 0xaba3b10>,\n",
       " <caffe_layers.extra_layers.ReluLayer at 0xaba3b50>,\n",
       " <caffe_layers.extra_layers.IdentityLayer at 0xab6d1d0>,\n",
       " <lasagne.layers.dense.DenseLayer at 0xaba3e50>,\n",
       " <caffe_layers.extra_layers.ReluLayer at 0xaba3e90>,\n",
       " <caffe_layers.extra_layers.IdentityLayer at 0xaba61d0>,\n",
       " <lasagne.layers.dense.DenseLayer at 0xaba6210>,\n",
       " <caffe_layers.extra_layers.SoftmaxLayer at 0xaba6250>]"
      ]
     },
     "execution_count": 22,
     "metadata": {},
     "output_type": "execute_result"
    }
   ],
   "source": [
    "lmodel.all_layers"
   ]
  },
  {
   "cell_type": "code",
   "execution_count": 30,
   "metadata": {
    "collapsed": false
   },
   "outputs": [
    {
     "data": {
      "text/plain": [
       "(10L, 3L, 227L, 227L)"
      ]
     },
     "execution_count": 30,
     "metadata": {},
     "output_type": "execute_result"
    }
   ],
   "source": [
    "lmodel.all_layers[1].input_shape"
   ]
  },
  {
   "cell_type": "code",
   "execution_count": 24,
   "metadata": {
    "collapsed": false
   },
   "outputs": [
    {
     "data": {
      "text/plain": [
       "(10L, 3L, 227L, 227L)"
      ]
     },
     "execution_count": 24,
     "metadata": {},
     "output_type": "execute_result"
    }
   ],
   "source": [
    "lmodel.input_layer.shape"
   ]
  },
  {
   "cell_type": "code",
   "execution_count": 27,
   "metadata": {
    "collapsed": false
   },
   "outputs": [
    {
     "data": {
      "text/plain": [
       "['__class__',\n",
       " '__delattr__',\n",
       " '__dict__',\n",
       " '__doc__',\n",
       " '__format__',\n",
       " '__getattribute__',\n",
       " '__hash__',\n",
       " '__init__',\n",
       " '__module__',\n",
       " '__new__',\n",
       " '__reduce__',\n",
       " '__reduce_ex__',\n",
       " '__repr__',\n",
       " '__setattr__',\n",
       " '__sizeof__',\n",
       " '__str__',\n",
       " '__subclasshook__',\n",
       " '__weakref__',\n",
       " 'add_param',\n",
       " 'get_output_for',\n",
       " 'get_output_shape_for',\n",
       " 'get_params',\n",
       " 'input_layer',\n",
       " 'input_shape',\n",
       " 'name',\n",
       " 'output_shape',\n",
       " 'params']"
      ]
     },
     "execution_count": 27,
     "metadata": {},
     "output_type": "execute_result"
    }
   ],
   "source": [
    "dir(lmodel.last_layer)"
   ]
  }
 ],
 "metadata": {
  "kernelspec": {
   "display_name": "Python 2",
   "language": "python",
   "name": "python2"
  },
  "language_info": {
   "codemirror_mode": {
    "name": "ipython",
    "version": 2
   },
   "file_extension": ".py",
   "mimetype": "text/x-python",
   "name": "python",
   "nbconvert_exporter": "python",
   "pygments_lexer": "ipython2",
   "version": "2.7.5"
  }
 },
 "nbformat": 4,
 "nbformat_minor": 0
}
